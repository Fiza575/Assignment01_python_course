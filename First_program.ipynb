{
 "cells": [
  {
   "cell_type": "markdown",
   "id": "6fc485bf",
   "metadata": {},
   "source": [
    "# Assignment Title"
   ]
  },
  {
   "cell_type": "markdown",
   "id": "4ce59a7f",
   "metadata": {},
   "source": [
    "### Getting Started with Python"
   ]
  },
  {
   "cell_type": "markdown",
   "id": "563945e3",
   "metadata": {},
   "source": [
    "#### Task "
   ]
  },
  {
   "cell_type": "markdown",
   "id": "4cb46141",
   "metadata": {},
   "source": [
    "##### Write a python program that print "
   ]
  },
  {
   "cell_type": "markdown",
   "id": "0d07b1d3",
   "metadata": {},
   "source": [
    "### Hello, World!"
   ]
  },
  {
   "cell_type": "code",
   "execution_count": 4,
   "id": "e3e8ec19",
   "metadata": {},
   "outputs": [
    {
     "name": "stdout",
     "output_type": "stream",
     "text": [
      "Hello,World\n"
     ]
    }
   ],
   "source": [
    "print(\"Hello,World\")"
   ]
  }
 ],
 "metadata": {
  "kernelspec": {
   "display_name": "Python (Chromebook)",
   "language": "python",
   "name": "chromebook-env"
  },
  "language_info": {
   "codemirror_mode": {
    "name": "ipython",
    "version": 3
   },
   "file_extension": ".py",
   "mimetype": "text/x-python",
   "name": "python",
   "nbconvert_exporter": "python",
   "pygments_lexer": "ipython3",
   "version": "3.12.9"
  }
 },
 "nbformat": 4,
 "nbformat_minor": 5
}
